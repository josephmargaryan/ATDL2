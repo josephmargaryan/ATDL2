{
 "nbformat": 4,
 "nbformat_minor": 0,
 "metadata": {
  "kernelspec": {
   "display_name": "Python 3",
   "language": "python",
   "name": "python3"
  },
  "language_info": {
   "codemirror_mode": {
    "name": "ipython",
    "version": 3
   },
   "file_extension": ".py",
   "mimetype": "text/x-python",
   "name": "python",
   "nbconvert_exporter": "python",
   "pygments_lexer": "ipython3",
   "version": "3.8.0"
  }
 },
 "cells": [
  {
   "cell_type": "code",
   "metadata": {},
   "source": [
    "# Verify local environment and dependencies\n",
    "import sys\n",
    "import torch\n",
    "\n",
    "print(f\"Python version: {sys.version}\")\n",
    "print(f\"PyTorch version: {torch.__version__}\")\n",
    "print(f\"CUDA available: {torch.cuda.is_available()}\")\n",
    "if torch.cuda.is_available():\n",
    "    print(f\"CUDA device: {torch.cuda.get_device_name(0)}\")\n"
   ],
   "outputs": [],
   "execution_count": null
  },
  {
   "cell_type": "markdown",
   "source": [
    "# LeNet-300-100 Experiment\n",
    "## The exact same baseline as in the paper"
   ],
   "metadata": {
    "id": "pdQtWoC_sQWh"
   }
  },
  {
   "cell_type": "code",
   "source": [
    "!python run_sws.py --preset lenet_300_100 \\\n",
    "  --complexity-mode keras --tau 5e-3 \\\n",
    "  --quant-assign map \\\n",
    "  --auto-tau-ratio 0"
   ],
   "metadata": {
    "colab": {
     "base_uri": "https://localhost:8080/"
    },
    "id": "J7N1l8v8bSGt",
    "outputId": "21bdc44e-8c7a-4076-dd72-118c26e372d5"
   },
   "outputs": [],
   "execution_count": null
  },
  {
   "cell_type": "markdown",
   "source": [
    "# LeNet-300-100 (ours robust ML-assignment + automatic $\\tau$)"
   ],
   "metadata": {
    "id": "dRpU1_7TvDzn"
   }
  },
  {
   "cell_type": "code",
   "source": [
    "!python run_sws.py --preset lenet_300_100 \\\n",
    "  --pretrain-epochs 30 --retrain-epochs 30 \\\n",
    "  --pi0 0.95 --num-components 17 \\\n",
    "  --lr-w 5e-4 --lr-theta-means 1e-4 --lr-theta-gammas 3e-3 --lr-theta-rhos 3e-3 \\\n",
    "  --weight-decay 0.0 \\\n",
    "  --complexity-mode epoch --tau 3e-5 --tau-warmup-epochs 5 \\\n",
    "  --gamma-alpha 50 --gamma-beta 0.1 \\\n",
    "  --gamma-alpha-zero 100 --gamma-beta-zero 0.5 \\\n",
    "  --merge-kl-thresh 0.0 --quant-skip-last \\\n",
    "  --quant-assign ml \\\n",
    "  --log-mixture-every 1 --cr-every 5 \\\n",
    "  --run-name pt_lenet300_ml --save-dir runs --seed 1"
   ],
   "metadata": {
    "colab": {
     "base_uri": "https://localhost:8080/"
    },
    "id": "aD5ntaGOufGe",
    "outputId": "a8ec6836-ef7c-4905-e497-07f60c127738"
   },
   "outputs": [],
   "execution_count": null
  },
  {
   "cell_type": "markdown",
   "source": [
    "# LeNet-Caffe experiment\n",
    "## Baseline"
   ],
   "metadata": {
    "id": "ZdLF_jpyOg3k"
   }
  },
  {
   "cell_type": "code",
   "source": [
    "!python run_sws.py --preset lenet5 \\\n",
    "  --complexity-mode keras --tau 5e-3 \\\n",
    "  --quant-assign map \\\n",
    "  --auto-tau-ratio 0\n"
   ],
   "metadata": {
    "colab": {
     "base_uri": "https://localhost:8080/"
    },
    "id": "-393pqikepxa",
    "outputId": "4f36c99e-846a-4250-e285-031a42e97b56"
   },
   "outputs": [],
   "execution_count": null
  },
  {
   "cell_type": "markdown",
   "source": [
    "# LeNet-Caffe (ours robust ML-assignment + automatic $\\tau$)"
   ],
   "metadata": {
    "id": "t71yB2ktu5Qo"
   }
  },
  {
   "cell_type": "code",
   "source": [
    "!python run_sws.py --preset lenet5 \\\n",
    "  --pretrain-epochs 100 --retrain-epochs 60 \\\n",
    "  --pi0 0.95 --num-components 17 \\\n",
    "  --lr-w 5e-4 --lr-theta-means 1e-4 --lr-theta-gammas 3e-3 --lr-theta-rhos 3e-3 \\\n",
    "  --weight-decay 0.0 \\\n",
    "  --complexity-mode epoch --tau 3e-5 --tau-warmup-epochs 5 \\\n",
    "  --gamma-alpha 50 --gamma-beta 0.1 \\\n",
    "  --gamma-alpha-zero 100 --gamma-beta-zero 0.5 \\\n",
    "  --merge-kl-thresh 0.0 --quant-skip-last \\\n",
    "  --quant-assign ml \\\n",
    "  --log-mixture-every 1 --cr-every 5 \\\n",
    "  --run-name pt_lenet5_ml_safe --save-dir runs --seed 1"
   ],
   "metadata": {
    "colab": {
     "base_uri": "https://localhost:8080/"
    },
    "id": "UlmlGDOsOi1_",
    "outputId": "79a1c0f2-c21b-489e-a9da-efa53021a517"
   },
   "outputs": [],
   "execution_count": null
  },
  {
   "cell_type": "markdown",
   "source": [
    "# ResNet (light) Experiment\n",
    "## The same as in the paper"
   ],
   "metadata": {
    "id": "INc4lACKRZ70"
   }
  },
  {
   "cell_type": "code",
   "source": [
    "!python run_sws.py --preset wrn_16_4 \\\n",
    "  --complexity-mode keras --tau 5e-3 \\\n",
    "  --quant-assign map --auto-tau-ratio 0 \\\n",
    "  --log-mixture-every 1 --make-gif \\\n",
    "  --run-name wrn_map_keras_tau5e-3\n"
   ],
   "metadata": {
    "colab": {
     "base_uri": "https://localhost:8080/"
    },
    "id": "K--XzrKivKd6",
    "outputId": "abd53cd5-acd4-431c-d374-78ee19a052cc"
   },
   "outputs": [],
   "execution_count": null
  },
  {
   "cell_type": "markdown",
   "source": [
    "# ResNet (light) (ours robust ML-assignment + automatic $\\tau$)"
   ],
   "metadata": {
    "id": "vRFc94RVvMvt"
   }
  },
  {
   "cell_type": "code",
   "source": "!python run_sws.py --preset wrn_16_4 \\\n  --complexity-mode epoch --auto-tau-ratio 0.1 \\\n  --tau-warmup-epochs 10 \\\n  --quant-assign ml --merge-kl-thresh 1e-6 \\\n  --log-mixture-every 1 --cr-every 2 \\\n  --make-gif --gif-fps 2 \\\n  --run-name wrn_ml_autoTau",
   "metadata": {
    "colab": {
     "base_uri": "https://localhost:8080/"
    },
    "id": "6o_JIJ76WhHt",
    "outputId": "236615b5-1bd3-44a8-f4ca-2fcbe00b22e5"
   },
   "outputs": [],
   "execution_count": null
  },
  {
   "cell_type": "markdown",
   "source": [
    "# Collapse demo"
   ],
   "metadata": {
    "id": "qKnt2JIlk0uJ"
   }
  },
  {
   "cell_type": "code",
   "source": "!python run_sws.py --preset lenet_300_100 \\\n  --complexity-mode keras --tau 5e-3 \\\n  --quant-assign map --auto-tau-ratio 0 \\\n  --log-mixture-every 1 \\\n  --make-gif --gif-fps 2 \\\n  --run-name lenet300_map_keras_tau5e-3_gif",
   "metadata": {
    "colab": {
     "base_uri": "https://localhost:8080/"
    },
    "id": "LqNH07r8k1xR",
    "outputId": "3d9deca6-ae42-44d5-df08-375e2d764cd6"
   },
   "outputs": [],
   "execution_count": null
  },
  {
   "cell_type": "markdown",
   "source": [
    "## Ours Robust"
   ],
   "metadata": {
    "id": "Nd1JRLmspQuA"
   }
  },
  {
   "cell_type": "code",
   "source": "!python run_sws.py --preset lenet_300_100 \\\n  --complexity-mode epoch --auto-tau-ratio 0.1 \\\n  --tau-warmup-epochs 10 \\\n  --quant-assign ml --merge-kl-thresh 1e-6 \\\n  --log-mixture-every 1 \\\n  --make-gif --gif-fps 2 \\\n  --run-name lenet300_ml_autoTau_gif",
   "metadata": {
    "colab": {
     "base_uri": "https://localhost:8080/"
    },
    "id": "Vlnle8O9pR3I",
    "outputId": "59a07cea-b420-4195-d4f7-710ed7d2b2e4"
   },
   "outputs": [],
   "execution_count": null
  },
  {
   "cell_type": "code",
   "source": "!python run_sws.py --preset lenet_300_100 \\\n  --complexity-mode epoch --tau 8e-5 --tau-warmup-epochs 10 \\\n  --quant-assign ml --merge-kl-thresh 1e-6 \\\n  --log-mixture-every 1 \\\n  --make-gif --gif-fps 2 \\\n  --run-name banded_ml_tau8e-5",
   "metadata": {
    "colab": {
     "base_uri": "https://localhost:8080/"
    },
    "id": "UsP11_I4tTXu",
    "outputId": "29d3a7c9-797a-42e9-b4eb-cf293a9a3247"
   },
   "outputs": [],
   "execution_count": null
  }
 ]
}