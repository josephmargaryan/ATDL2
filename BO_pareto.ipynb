{
 "cells": [
  {
   "cell_type": "code",
   "execution_count": 3,
   "id": "23e891a4-98ef-4bb6-84c8-f49181ee61a4",
   "metadata": {},
   "outputs": [],
   "source": [
    "%%capture\n",
    "!pip install --upgrade pip\n",
    "!git clone https://github.com/josephmargaryan/ATDL2.git\n",
    "%cd ATDL2\n",
    "!pip install -e . --no-deps\n"
   ]
  },
  {
   "cell_type": "markdown",
   "id": "o90ewvxdnq",
   "source": "# Pareto Multi-Objective Bayesian Optimization with Conservative Pruning\n\nThis notebook runs Bayesian optimization using:\n\n## Optimization Strategy\n- **Multi-objective**: Optimizes CR (Compression Rate) and Accuracy simultaneously\n- **Sampler**: NSGA-II (automatic for Pareto mode)\n- **Output**: Pareto front of optimal trade-off solutions\n\n## Pruning Strategy: CONSERVATIVE\nAll experiments use conservative pruning to maximize quality and minimize risk:\n\n```\n--enable-pruning\n--pruning-warmup-trials 15     # Wait for 30% of trials before pruning\n--pruning-warmup-steps 20      # Wait until 50% of epochs before pruning\n--pruning-percentile 75        # Only prune worst 25% of trials\n--cr-every 5                   # Monitor CR every 5 epochs\n```\n\n### Why Conservative?\n- **Multi-objective optimization**: Pruning only monitors CR, not accuracy\n- **Preserves Pareto diversity**: Allows high-accuracy/moderate-CR solutions to develop\n- **Low risk**: Minimizes chance of pruning \"late bloomers\"\n- **Expected speedup**: 1.1-1.3× (10-15% time savings)\n\n### Proportional Adjustments\n- **30-trial runs**: Use 9 warmup trials (30%), 15 warmup steps (50% of 30 epochs)",
   "metadata": {}
  },
  {
   "cell_type": "code",
   "execution_count": null,
   "id": "1c399397-9c82-415e-935f-2dff89f5e9ee",
   "metadata": {},
   "outputs": [],
   "source": "!python scripts/tune_optuna.py \\\n    --preset lenet_300_100 \\\n    --n-trials 50 \\\n    --study-name lenet300_pareto \\\n    --use-pareto \\\n    --enable-pruning \\\n    --pruning-warmup-trials 15 \\\n    --pruning-warmup-steps 20 \\\n    --pruning-percentile 75 \\\n    --save-dir runs/bayesian_optimization_pareto/lenet_300_100 \\\n    --timeout-sec 7200 \\\n    --keep-failed \\\n    --no-huffman \\\n    --quant-skip-last \\\n    --batch-size 128 \\\n    --num-workers 2 \\\n    --pretrain-epochs 0 \\\n    --retrain-epochs 40 \\\n    --lr-pre 5e-4 \\\n    --optim-pre adam \\\n    --eval-every 5 \\\n    --cr-every 5 \\\n    --seed 1 \\\n    --load-pretrained runs/mnist_300/mnist_lenet_300_100_pre.pt"
  },
  {
   "cell_type": "code",
   "execution_count": null,
   "id": "189268cd-7544-43d5-b174-2f618490e59b",
   "metadata": {},
   "outputs": [],
   "source": "!python scripts/tune_optuna.py \\\n    --preset lenet5 \\\n    --n-trials 50 \\\n    --study-name lenet5_pareto \\\n    --use-pareto \\\n    --enable-pruning \\\n    --pruning-warmup-trials 15 \\\n    --pruning-warmup-steps 20 \\\n    --pruning-percentile 75 \\\n    --save-dir runs/bayesian_optimization_pareto/lenet5 \\\n    --timeout-sec 7200 \\\n    --keep-failed \\\n    --no-huffman \\\n    --quant-skip-last \\\n    --batch-size 128 \\\n    --num-workers 2 \\\n    --pretrain-epochs 0 \\\n    --retrain-epochs 40 \\\n    --lr-pre 5e-4 \\\n    --optim-pre adam \\\n    --eval-every 5 \\\n    --cr-every 5 \\\n    --seed 1 \\\n    --load-pretrained runs/mnist_caffe/mnist_lenet5_pre.pt"
  },
  {
   "cell_type": "code",
   "execution_count": null,
   "id": "81192eff-bfd3-4729-a913-3495260af19f",
   "metadata": {},
   "outputs": [],
   "source": "!python scripts/tune_optuna.py \\\n    --preset wrn_16_4 \\\n    --n-trials 50 \\\n    --study-name wrn16_pareto \\\n    --use-pareto \\\n    --enable-pruning \\\n    --pruning-warmup-trials 15 \\\n    --pruning-warmup-steps 20 \\\n    --pruning-percentile 75 \\\n    --save-dir runs/bayesian_optimization_pareto/resnet \\\n    --timeout-sec 7200 \\\n    --keep-failed \\\n    --no-huffman \\\n    --quant-skip-last \\\n    --batch-size 128 \\\n    --num-workers 2 \\\n    --pretrain-epochs 0 \\\n    --retrain-epochs 40 \\\n    --lr-pre 5e-4 \\\n    --optim-pre adam \\\n    --eval-every 5 \\\n    --cr-every 5 \\\n    --seed 1 \\\n    --load-pretrained runs/resnet/cifar10_wrn_16_4_quantized.pt"
  },
  {
   "cell_type": "code",
   "execution_count": null,
   "id": "0127d58a-cc82-45ab-aa10-b9d2a26902e0",
   "metadata": {},
   "outputs": [],
   "source": "!python scripts/tune_optuna.py \\\n  --preset wrn_16_4 \\\n  --n-trials 30 \\\n  --study-name wrn16_pareto_run2 \\\n  --use-pareto \\\n  --enable-pruning \\\n  --pruning-warmup-trials 9 \\\n  --pruning-warmup-steps 15 \\\n  --pruning-percentile 75 \\\n  --pretrain-epochs 0 \\\n  --save-dir runs/bayesian_optimization_pareto/wrn_16_4 \\\n  --timeout-sec 7200 \\\n  --no-huffman \\\n  --keep-failed \\\n  --quant-skip-last \\\n  --batch-size 64 \\\n  --num-workers 1 \\\n  --retrain-epochs 30 \\\n  --lr-pre 5e-4 \\\n  --optim-pre adam \\\n  --eval-every 5 \\\n  --cr-every 5 \\\n  --seed 1 \\\n  --load-pretrained runs/pt_wrn_16_4_pre/cifar10_wrn_16_4_pre.pt"
  },
  {
   "cell_type": "code",
   "execution_count": null,
   "id": "07e861a4-b4a3-4f07-a265-eb286299beba",
   "metadata": {},
   "outputs": [],
   "source": []
  },
  {
   "cell_type": "markdown",
   "id": "tv4lyp48vw",
   "source": "# Visualize Pareto Front Results\n\nUse these commands to visualize the Pareto-optimal solutions from the optimization runs above.",
   "metadata": {}
  },
  {
   "cell_type": "code",
   "id": "nt5s1oti809",
   "source": "# Visualize LeNet-300-100 Pareto front\n!python scripts/tune_optuna_pareto_viz.py \\\n    --pareto-json runs/bayesian_optimization_pareto/lenet_300_100/lenet300_pareto_pareto_results.json \\\n    --annotate\n\n# Visualize LeNet5 Pareto front\n!python scripts/tune_optuna_pareto_viz.py \\\n    --pareto-json runs/bayesian_optimization_pareto/lenet5/lenet5_pareto_pareto_results.json \\\n    --annotate\n\n# Visualize WRN-16-4 Pareto front\n!python scripts/tune_optuna_pareto_viz.py \\\n    --pareto-json runs/bayesian_optimization_pareto/resnet/wrn16_pareto_pareto_results.json \\\n    --annotate",
   "metadata": {},
   "execution_count": null,
   "outputs": []
  }
 ],
 "metadata": {
  "kernelspec": {
   "display_name": "Python 3 (ipykernel)",
   "language": "python",
   "name": "python3"
  },
  "language_info": {
   "codemirror_mode": {
    "name": "ipython",
    "version": 3
   },
   "file_extension": ".py",
   "mimetype": "text/x-python",
   "name": "python",
   "nbconvert_exporter": "python",
   "pygments_lexer": "ipython3",
   "version": "3.12.11"
  }
 },
 "nbformat": 4,
 "nbformat_minor": 5
}