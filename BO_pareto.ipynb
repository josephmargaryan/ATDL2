{
 "cells": [
  {
   "cell_type": "code",
   "execution_count": 2,
   "id": "23e891a4-98ef-4bb6-84c8-f49181ee61a4",
   "metadata": {},
   "outputs": [],
   "source": [
    "%%capture\n",
    "!pip install --upgrade pip\n",
    "!git clone -b feat/new_BO_protocol --single-branch https://github.com/josephmargaryan/ATDL2.git\n",
    "%cd ATDL2\n",
    "!pip install -e . --no-deps"
   ]
  },
  {
   "cell_type": "markdown",
   "id": "o90ewvxdnq",
   "metadata": {},
   "source": "# Pareto Multi-Objective Bayesian Optimization\n\nThis notebook runs Bayesian optimization using:\n\n## Optimization Strategy\n- **Multi-objective**: Optimizes CR (Compression Rate) and Accuracy simultaneously\n- **Sampler**: NSGA-II (automatic for Pareto mode)\n- **Output**: Pareto front of optimal trade-off solutions"
  },
  {
   "metadata": {},
   "cell_type": "code",
   "outputs": [],
   "execution_count": null,
   "source": [
    "!python scripts/tune_optuna.py \\\n",
    "    --preset lenet_300_100 \\\n",
    "    --n-trials 50 \\\n",
    "    --study-name lenet300_pareto \\\n",
    "    --use-pareto \\\n",
    "    --save-dir runs/bayesian_optimization_pareto/lenet_300_100 \\\n",
    "    --timeout-sec 7200 \\\n",
    "    --keep-failed \\\n",
    "    --no-huffman \\\n",
    "    --quant-skip-last \\\n",
    "    --batch-size 128 \\\n",
    "    --num-workers 2 \\\n",
    "    --pretrain-epochs 0 \\\n",
    "    --retrain-epochs 40 \\\n",
    "    --lr-pre 5e-4 \\\n",
    "    --optim-pre adam \\\n",
    "    --eval-every 5 \\\n",
    "    --cr-every 5 \\\n",
    "    --seed 1 \\\n",
    "    --load-pretrained runs/mnist_300/mnist_lenet_300_100_pre.pt"
   ],
   "id": "84ee5529ff2a1d3e"
  },
  {
   "cell_type": "code",
   "execution_count": null,
   "id": "1c399397-9c82-415e-935f-2dff89f5e9ee",
   "metadata": {},
   "outputs": [],
   "source": "!python scripts/tune_optuna.py \\\n    --preset lenet_300_100 \\\n    --n-trials 50 \\\n    --study-name lenet300_pareto \\\n    --use-pareto \\\n    --save-dir runs/bayesian_optimization_pareto/lenet_300_100 \\\n    --timeout-sec 7200 \\\n    --keep-failed \\\n    --no-huffman \\\n    --quant-skip-last \\\n    --batch-size 128 \\\n    --num-workers 2 \\\n    --pretrain-epochs 0 \\\n    --retrain-epochs 40 \\\n    --lr-pre 5e-4 \\\n    --optim-pre adam \\\n    --eval-every 5 \\\n    --cr-every 5 \\\n    --seed 1 \\\n    --load-pretrained runs/mnist_300/mnist_lenet_300_100_pre.pt"
  },
  {
   "cell_type": "code",
   "execution_count": null,
   "id": "189268cd-7544-43d5-b174-2f618490e59b",
   "metadata": {},
   "outputs": [],
   "source": "!python scripts/tune_optuna.py \\\n    --preset lenet5 \\\n    --n-trials 50 \\\n    --study-name lenet5_pareto \\\n    --use-pareto \\\n    --save-dir runs/bayesian_optimization_pareto/lenet5 \\\n    --timeout-sec 7200 \\\n    --keep-failed \\\n    --no-huffman \\\n    --quant-skip-last \\\n    --batch-size 128 \\\n    --num-workers 2 \\\n    --pretrain-epochs 0 \\\n    --retrain-epochs 40 \\\n    --lr-pre 5e-4 \\\n    --optim-pre adam \\\n    --eval-every 5 \\\n    --cr-every 5 \\\n    --seed 1 \\\n    --load-pretrained runs/mnist_caffe/mnist_lenet5_pre.pt"
  },
  {
   "cell_type": "code",
   "execution_count": null,
   "id": "81192eff-bfd3-4729-a913-3495260af19f",
   "metadata": {},
   "outputs": [],
   "source": "!python scripts/tune_optuna.py \\\n    --preset wrn_16_4 \\\n    --n-trials 50 \\\n    --study-name wrn16_pareto \\\n    --use-pareto \\\n    --save-dir runs/bayesian_optimization_pareto/resnet \\\n    --timeout-sec 7200 \\\n    --keep-failed \\\n    --no-huffman \\\n    --quant-skip-last \\\n    --batch-size 128 \\\n    --num-workers 2 \\\n    --pretrain-epochs 0 \\\n    --retrain-epochs 40 \\\n    --lr-pre 5e-4 \\\n    --optim-pre adam \\\n    --eval-every 5 \\\n    --cr-every 5 \\\n    --seed 1 \\\n    --load-pretrained runs/resnet/cifar10_wrn_16_4_quantized.pt"
  },
  {
   "cell_type": "code",
   "execution_count": null,
   "id": "0127d58a-cc82-45ab-aa10-b9d2a26902e0",
   "metadata": {},
   "outputs": [],
   "source": "!python scripts/tune_optuna.py \\\n  --preset wrn_16_4 \\\n  --n-trials 30 \\\n  --study-name wrn16_pareto_run2 \\\n  --use-pareto \\\n  --pretrain-epochs 0 \\\n  --save-dir runs/bayesian_optimization_pareto/wrn_16_4 \\\n  --timeout-sec 7200 \\\n  --no-huffman \\\n  --keep-failed \\\n  --quant-skip-last \\\n  --batch-size 64 \\\n  --num-workers 1 \\\n  --retrain-epochs 30 \\\n  --lr-pre 5e-4 \\\n  --optim-pre adam \\\n  --eval-every 5 \\\n  --cr-every 5 \\\n  --seed 1 \\\n  --load-pretrained runs/pt_wrn_16_4_pre/cifar10_wrn_16_4_pre.pt"
  },
  {
   "cell_type": "markdown",
   "id": "tv4lyp48vw",
   "metadata": {},
   "source": [
    "# Visualize Pareto Front Results\n",
    "\n",
    "Use these commands to visualize the Pareto-optimal solutions from the optimization runs above."
   ]
  },
  {
   "cell_type": "code",
   "execution_count": null,
   "id": "nt5s1oti809",
   "metadata": {},
   "outputs": [],
   "source": [
    "# Visualize LeNet-300-100 Pareto front\n",
    "!python scripts/tune_optuna_pareto_viz.py \\\n",
    "    --pareto-json runs/bayesian_optimization_pareto/lenet_300_100/lenet300_pareto_pareto_results.json \\\n",
    "    --annotate\n",
    "\n",
    "# Visualize LeNet5 Pareto front\n",
    "!python scripts/tune_optuna_pareto_viz.py \\\n",
    "    --pareto-json runs/bayesian_optimization_pareto/lenet5/lenet5_pareto_pareto_results.json \\\n",
    "    --annotate\n",
    "\n",
    "# Visualize WRN-16-4 Pareto front\n",
    "!python scripts/tune_optuna_pareto_viz.py \\\n",
    "    --pareto-json runs/bayesian_optimization_pareto/resnet/wrn16_pareto_pareto_results.json \\\n",
    "    --annotate"
   ]
  }
 ],
 "metadata": {
  "kernelspec": {
   "display_name": "Python 3 (ipykernel)",
   "language": "python",
   "name": "python3"
  },
  "language_info": {
   "codemirror_mode": {
    "name": "ipython",
    "version": 3
   },
   "file_extension": ".py",
   "mimetype": "text/x-python",
   "name": "python",
   "nbconvert_exporter": "python",
   "pygments_lexer": "ipython3",
   "version": "3.12.11"
  }
 },
 "nbformat": 4,
 "nbformat_minor": 5
}