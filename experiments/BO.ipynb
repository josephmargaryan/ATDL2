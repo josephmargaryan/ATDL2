{
 "cells": [
  {
   "cell_type": "markdown",
   "id": "header",
   "metadata": {},
   "source": [
    "# Bayesian Optimization - LeNet-300-100\n",
    "\n",
    "Multi-objective Pareto optimization to find optimal hyperparameters for soft weight-sharing.\n",
    "\n",
    "## Workflow\n",
    "1. **Run Bayesian Optimization**: 50 trials exploring hyperparameter space\n",
    "2. **Visualize Pareto Front**: Inspect trade-offs between Compression Ratio (CR) and Accuracy Loss\n",
    "3. **Select Best Hyperparameters**: Choose solution from Pareto front based on desired trade-off\n",
    "\n",
    "## Optimization Strategy\n",
    "- **Objectives**: Maximize CR, Minimize accuracy loss (multi-objective)\n",
    "- **Sampler**: NSGA-II (automatic for Pareto mode)\n",
    "- **Search Space**: \n",
    "  - `tau`: [3e-3, 1e-2] (log scale)\n",
    "  - `gamma_alpha`: [100, 500]\n",
    "  - `gamma_beta`: [0.05, 0.5]\n",
    "  - `gamma_alpha_zero`: [3000, 6000]\n",
    "  - `gamma_beta_zero`: [1, 5]\n",
    "- **Output**: Pareto front of non-dominated solutions"
   ]
  },
  {
   "cell_type": "markdown",
   "id": "bo-header",
   "metadata": {},
   "source": [
    "---\n",
    "## 1. Run Bayesian Optimization (50 Trials)"
   ]
  },
  {
   "cell_type": "code",
   "execution_count": null,
   "id": "bo-run",
   "metadata": {},
   "outputs": [],
   "source": [
    "!python scripts/tune_optuna.py \\\n",
    "    --preset lenet_300_100 \\\n",
    "    --use-pareto \\\n",
    "    --n-trials 50 \\\n",
    "    --save-dir BO_results \\\n",
    "    --load-pretrained checkpoints/mnist_lenet_300_100_pre.pt \\\n",
    "    --pretrain-epochs 0 \\\n",
    "    --retrain-epochs 40 \\\n",
    "    --batch-size 128 \\\n",
    "    --num-workers 4 \\\n",
    "    --quant-skip-last \\\n",
    "    --eval-every 20 \\\n",
    "    --cr-every 20 \\\n",
    "    --seed 42"
   ]
  },
  {
   "cell_type": "markdown",
   "id": "viz-header",
   "metadata": {},
   "source": [
    "---\n",
    "## 2. Visualize Pareto Front"
   ]
  },
  {
   "cell_type": "code",
   "execution_count": null,
   "id": "viz-run",
   "metadata": {},
   "outputs": [],
   "source": [
    "!python scripts/tune_optuna_pareto_viz.py \\\n",
    "    --pareto-json BO_results/*_pareto_results.json \\\n",
    "    --annotate"
   ]
  },
  {
   "cell_type": "markdown",
   "id": "display-header",
   "metadata": {},
   "source": [
    "---\n",
    "## 3. Display Pareto Front Plot"
   ]
  },
  {
   "cell_type": "code",
   "execution_count": null,
   "id": "display-plot",
   "metadata": {},
   "outputs": [],
   "source": [
    "from IPython.display import Image, display\n",
    "import glob\n",
    "\n",
    "# Find and display Pareto plot\n",
    "plot_files = glob.glob(\"../BO_results/*_pareto_results_plot.png\")\n",
    "if plot_files:\n",
    "    plot_path = plot_files[0]\n",
    "    print(f\"Displaying Pareto front: {plot_path}\\n\")\n",
    "    display(Image(filename=plot_path))\n",
    "else:\n",
    "    print(\"⚠️  Pareto plot not found. Check if visualization completed successfully.\")"
   ]
  },
  {
   "cell_type": "markdown",
   "id": "results-header",
   "metadata": {},
   "source": [
    "---\n",
    "## 4. Show Pareto-Optimal Solutions"
   ]
  },
  {
   "cell_type": "code",
   "execution_count": null,
   "id": "display-results",
   "metadata": {},
   "outputs": [],
   "source": [
    "import json\n",
    "import glob\n",
    "\n",
    "# Load Pareto results\n",
    "pareto_files = glob.glob(\"../BO_results/*_pareto_results.json\")\n",
    "if not pareto_files:\n",
    "    print(\"⚠️  Pareto results JSON not found.\")\n",
    "else:\n",
    "    pareto_file = pareto_files[0]\n",
    "    with open(pareto_file) as f:\n",
    "        data = json.load(f)\n",
    "    \n",
    "    print(\"=\"*80)\n",
    "    print(f\"PARETO FRONT - {data['study_name']}\")\n",
    "    print(\"=\"*80)\n",
    "    print(f\"Total trials:        {data['n_trials']}\")\n",
    "    print(f\"Pareto solutions:    {data['n_pareto']}\")\n",
    "    print(f\"Preset:              {data['preset']}\")\n",
    "    print(\"=\"*80)\n",
    "    print()\n",
    "    \n",
    "    if data['n_pareto'] == 0:\n",
    "        print(\"⚠️  No Pareto-optimal solutions found. All trials may have failed.\")\n",
    "        print(\"   Check error logs in BO_results/*/ERROR.txt\")\n",
    "    else:\n",
    "        print(f\"Found {data['n_pareto']} Pareto-optimal solutions:\\n\")\n",
    "        \n",
    "        for i, sol in enumerate(data['pareto_front']):\n",
    "            print(f\"{'='*80}\")\n",
    "            print(f\"Solution {i+1} - Trial #{sol['trial_number']}\")\n",
    "            print(f\"{'='*80}\")\n",
    "            print(f\"  Compression Ratio (CR):    {sol['CR']:.2f}x\")\n",
    "            print(f\"  Accuracy Loss:             {sol['acc_loss']:.4f}\")\n",
    "            print(f\"  Accuracy (pretrain):       {sol['acc_pre']:.4f}\")\n",
    "            print(f\"  Accuracy (quantized):      {sol['acc_quantized']:.4f}\")\n",
    "            print(f\"  Accuracy drop (pp):        {sol['acc_drop_pp']:.2f}%\")\n",
    "            print(f\"\\n  Hyperparameters:\")\n",
    "            for k, v in sol['params'].items():\n",
    "                if isinstance(v, float):\n",
    "                    print(f\"    {k:<25} {v:.6g}\")\n",
    "                else:\n",
    "                    print(f\"    {k:<25} {v}\")\n",
    "            print(f\"\\n  Run directory: {sol['run_dir']}\")\n",
    "            print()"
   ]
  },
  {
   "cell_type": "markdown",
   "id": "csv-header",
   "metadata": {},
   "source": [
    "---\n",
    "## 5. Export Pareto Front to CSV"
   ]
  },
  {
   "cell_type": "code",
   "execution_count": null,
   "id": "export-csv",
   "metadata": {},
   "outputs": [],
   "source": [
    "# CSV is automatically generated by tune_optuna_pareto_viz.py\n",
    "csv_files = glob.glob(\"../BO_results/*_pareto_results_plot.csv\")\n",
    "if csv_files:\n",
    "    csv_path = csv_files[0]\n",
    "    print(f\"Pareto front CSV exported to: {csv_path}\")\n",
    "    print(\"\\nPreview:\")\n",
    "    !head -20 {csv_path}\n",
    "else:\n",
    "    print(\"⚠️  CSV file not found.\")"
   ]
  },
  {
   "cell_type": "markdown",
   "id": "selection-guide",
   "metadata": {},
   "source": [
    "---\n",
    "## 6. Selection Guide\n",
    "\n",
    "### How to Choose from Pareto Front\n",
    "\n",
    "The Pareto front shows the optimal trade-off between compression and accuracy:\n",
    "\n",
    "- **High CR, Higher Acc Loss**: Solutions on the right side of the plot\n",
    "  - Best for: Maximum compression, can tolerate slight accuracy drop\n",
    "  - Use case: Deployment on extremely resource-constrained devices\n",
    "\n",
    "- **Moderate CR, Low Acc Loss**: Solutions in the middle\n",
    "  - Best for: Balanced compression and accuracy\n",
    "  - Use case: General deployment scenarios\n",
    "\n",
    "- **Lower CR, Minimal Acc Loss**: Solutions on the left side\n",
    "  - Best for: Preserving accuracy with modest compression\n",
    "  - Use case: Applications where accuracy is critical\n",
    "\n",
    "### Next Steps\n",
    "\n",
    "1. **Select a solution** from the Pareto front above\n",
    "2. **Copy the hyperparameters** (tau, gamma_alpha, gamma_beta, etc.)\n",
    "3. **Open `compression.ipynb`**\n",
    "4. **Paste the hyperparameters** into the user input cell\n",
    "5. **Run full 100-epoch training** with your selected hyperparameters\n",
    "6. **Generate all diagnostics** (GIF, plots, compression report)"
   ]
  },
  {
   "cell_type": "markdown",
   "id": "summary",
   "metadata": {},
   "source": [
    "---\n",
    "## Summary\n",
    "\n",
    "Bayesian Optimization complete!\n",
    "\n",
    "### Outputs:\n",
    "- Pareto front plot: `BO_results/*_pareto_results_plot.png`\n",
    "- Pareto solutions JSON: `BO_results/*_pareto_results.json`\n",
    "- Pareto solutions CSV: `BO_results/*_pareto_results_plot.csv`\n",
    "- Individual trial results: `BO_results/sws_tune_lenet_300_100_*_t*/`\n",
    "\n",
    "### Recommended Workflow:\n",
    "1. ✅ Analyze Pareto front plot above\n",
    "2. ✅ Select solution based on CR vs accuracy trade-off\n",
    "3. ➡️ Copy hyperparameters to `compression.ipynb`\n",
    "4. ➡️ Run full training with selected hyperparameters"
   ]
  }
 ],
 "metadata": {
  "kernelspec": {
   "display_name": "Python 3",
   "language": "python",
   "name": "python3"
  },
  "language_info": {
   "codemirror_mode": {
    "name": "ipython",
    "version": 3
   },
   "file_extension": ".py",
   "mimetype": "text/x-python",
   "name": "python",
   "nbconvert_exporter": "python",
   "pygments_lexer": "ipython3",
   "version": "3.11.0"
  }
 },
 "nbformat": 4,
 "nbformat_minor": 5
}
