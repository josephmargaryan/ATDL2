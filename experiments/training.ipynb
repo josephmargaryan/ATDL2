{
 "cells": [
  {
   "cell_type": "markdown",
   "id": "header",
   "metadata": {},
   "source": [
    "# Baseline Model Training\n",
    "\n",
    "Train pretrained models **without** SWS compression.\n",
    "\n",
    "Models:\n",
    "- **LeNet-300-100** on MNIST\n",
    "- **LeNet5** on MNIST\n",
    "- **WRN-16-4** on CIFAR-10\n",
    "\n",
    "All models saved to `checkpoints/` directory with seed=42 for reproducibility."
   ]
  },
  {
   "cell_type": "markdown",
   "id": "lenet300-header",
   "metadata": {},
   "source": [
    "---\n",
    "## 1. LeNet-300-100 Training"
   ]
  },
  {
   "cell_type": "code",
   "execution_count": null,
   "id": "lenet300-train",
   "metadata": {},
   "outputs": [],
   "source": [
    "!python run_sws.py \\\n",
    "    --preset lenet_300_100 \\\n",
    "    --pretrain-epochs 20 \\\n",
    "    --retrain-epochs 0 \\\n",
    "    --batch-size 128 \\\n",
    "    --num-workers 2 \\\n",
    "    --eval-every 5 \\\n",
    "    --run-name lenet300_baseline \\\n",
    "    --save-dir checkpoints \\\n",
    "    --seed 42"
   ]
  },
  {
   "cell_type": "code",
   "execution_count": null,
   "id": "lenet300-copy",
   "metadata": {},
   "outputs": [],
   "source": [
    "# Copy checkpoint to standard location\n",
    "!cp checkpoints/lenet300_baseline/mnist_lenet_300_100_pre.pt checkpoints/mnist_lenet_300_100_pre.pt\n",
    "!echo \"✓ Saved to checkpoints/mnist_lenet_300_100_pre.pt\""
   ]
  },
  {
   "cell_type": "markdown",
   "id": "lenet5-header",
   "metadata": {},
   "source": [
    "---\n",
    "## 2. LeNet5 Training"
   ]
  },
  {
   "cell_type": "code",
   "execution_count": null,
   "id": "lenet5-train",
   "metadata": {},
   "outputs": [],
   "source": [
    "!python run_sws.py \\\n",
    "    --preset lenet5 \\\n",
    "    --pretrain-epochs 20 \\\n",
    "    --retrain-epochs 0 \\\n",
    "    --batch-size 128 \\\n",
    "    --num-workers 2 \\\n",
    "    --eval-every 5 \\\n",
    "    --run-name lenet5_baseline \\\n",
    "    --save-dir checkpoints \\\n",
    "    --seed 42"
   ]
  },
  {
   "cell_type": "code",
   "execution_count": null,
   "id": "lenet5-copy",
   "metadata": {},
   "outputs": [],
   "source": [
    "# Copy checkpoint to standard location\n",
    "!cp checkpoints/lenet5_baseline/mnist_lenet5_pre.pt checkpoints/mnist_lenet5_pre.pt\n",
    "!echo \"✓ Saved to checkpoints/mnist_lenet5_pre.pt\""
   ]
  },
  {
   "cell_type": "markdown",
   "id": "wrn-header",
   "metadata": {},
   "source": [
    "---\n",
    "## 3. WRN-16-4 Training (CIFAR-10)"
   ]
  },
  {
   "cell_type": "code",
   "execution_count": null,
   "id": "wrn-train",
   "metadata": {},
   "outputs": [],
   "source": [
    "!python run_sws.py \\\n",
    "    --preset wrn_16_4 \\\n",
    "    --pretrain-epochs 160 \\\n",
    "    --retrain-epochs 0 \\\n",
    "    --batch-size 128 \\\n",
    "    --num-workers 2 \\\n",
    "    --eval-every 20 \\\n",
    "    --optim-pre sgd \\\n",
    "    --run-name wrn16_baseline \\\n",
    "    --save-dir checkpoints \\\n",
    "    --seed 42"
   ]
  },
  {
   "cell_type": "code",
   "execution_count": null,
   "id": "wrn-copy",
   "metadata": {},
   "outputs": [],
   "source": [
    "# Copy checkpoint to standard location\n",
    "!cp checkpoints/wrn16_baseline/cifar10_wrn_16_4_pre.pt checkpoints/cifar10_wrn_16_4_pre.pt\n",
    "!echo \"✓ Saved to checkpoints/cifar10_wrn_16_4_pre.pt\""
   ]
  },
  {
   "cell_type": "markdown",
   "id": "verify-header",
   "metadata": {},
   "source": [
    "---\n",
    "## 4. Verify All Checkpoints"
   ]
  },
  {
   "cell_type": "code",
   "execution_count": null,
   "id": "verify",
   "metadata": {},
   "outputs": [],
   "source": [
    "!echo \"Pretrained checkpoints:\"\n",
    "!ls -lh checkpoints/*.pt"
   ]
  },
  {
   "cell_type": "markdown",
   "id": "summary",
   "metadata": {},
   "source": [
    "---\n",
    "## Summary\n",
    "\n",
    "All baseline models trained and saved to `checkpoints/`:\n",
    "- `checkpoints/mnist_lenet_300_100_pre.pt`\n",
    "- `checkpoints/mnist_lenet5_pre.pt`\n",
    "- `checkpoints/cifar10_wrn_16_4_pre.pt`\n",
    "\n",
    "These checkpoints will be used by subsequent notebooks for SWS compression experiments."
   ]
  }
 ],
 "metadata": {
  "kernelspec": {
   "display_name": "Python 3",
   "language": "python",
   "name": "python3"
  },
  "language_info": {
   "codemirror_mode": {
    "name": "ipython",
    "version": 3
   },
   "file_extension": ".py",
   "mimetype": "text/x-python",
   "name": "python",
   "nbconvert_exporter": "python",
   "pygments_lexer": "ipython3",
   "version": "3.11.0"
  }
 },
 "nbformat": 4,
 "nbformat_minor": 5
}
