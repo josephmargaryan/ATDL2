{
 "cells": [
  {
   "cell_type": "markdown",
   "id": "header",
   "metadata": {},
   "source": [
    "# SWS without Hyperpriors - LeNet-300-100\n",
    "\n",
    "Run soft weight-sharing on LeNet-300-100 **without hyperpriors** and with `init_sigma=0.25`.\n",
    "\n",
    "## Configuration\n",
    "- **Model**: LeNet-300-100 (pretrained)\n",
    "- **Hyperpriors**: Disabled (`--no-hyperpriors`)\n",
    "- **Init sigma**: 0.25\n",
    "- **Epochs**: 100 (full retraining)\n",
    "\n",
    "## Outputs\n",
    "- Trained models: `no_hp/lenet300_no_hp/`\n",
    "- All diagnostic plots: `no_hp/lenet300_no_hp/figures/`\n",
    "- Training GIF animation showing weight evolution"
   ]
  },
  {
   "cell_type": "markdown",
   "id": "train-header",
   "metadata": {},
   "source": [
    "---\n",
    "## 1. Run SWS Retraining (No Hyperpriors)"
   ]
  },
  {
   "cell_type": "code",
   "execution_count": null,
   "id": "train",
   "metadata": {},
   "outputs": [],
   "source": [
    "!python run_sws.py \\\n",
    "    --preset lenet_300_100 \\\n",
    "    --load-pretrained checkpoints/mnist_lenet_300_100_pre.pt \\\n",
    "    --pretrain-epochs 0 \\\n",
    "    --retrain-epochs 100 \\\n",
    "    --init-sigma 0.25 \\\n",
    "    --no-hyperpriors \\\n",
    "    --batch-size 128 \\\n",
    "    --num-workers 2 \\\n",
    "    --eval-every 1 \\\n",
    "    --log-mixture-every 1 \\\n",
    "    --make-gif \\\n",
    "    --gif-fps 2 \\\n",
    "    --quant-skip-last \\\n",
    "    --quant-assign map \\\n",
    "    --run-name lenet300_no_hp \\\n",
    "    --save-dir no_hp \\\n",
    "    --seed 42"
   ]
  },
  {
   "cell_type": "markdown",
   "id": "plots-header",
   "metadata": {},
   "source": [
    "---\n",
    "## 2. Generate All Diagnostic Plots"
   ]
  },
  {
   "cell_type": "code",
   "execution_count": null,
   "id": "set-rundir",
   "metadata": {},
   "outputs": [],
   "source": [
    "# Set the run directory for plotting scripts\n",
    "RUN_DIR = \"no_hp/lenet300_no_hp\"\n",
    "print(f\"Run directory: {RUN_DIR}\")"
   ]
  },
  {
   "cell_type": "markdown",
   "id": "curves-header",
   "metadata": {},
   "source": [
    "### Training Curves (Accuracy, Loss, Compression)"
   ]
  },
  {
   "cell_type": "code",
   "execution_count": null,
   "id": "plot-curves",
   "metadata": {},
   "outputs": [],
   "source": [
    "!python scripts/plot_curves.py --run-dir {RUN_DIR}"
   ]
  },
  {
   "cell_type": "markdown",
   "id": "mixture-header",
   "metadata": {},
   "source": [
    "### Mixture Evolution Over Epochs"
   ]
  },
  {
   "cell_type": "code",
   "execution_count": null,
   "id": "plot-mixture-dynamics",
   "metadata": {},
   "outputs": [],
   "source": [
    "!python scripts/plot_mixture_dynamics.py --run-dir {RUN_DIR}"
   ]
  },
  {
   "cell_type": "markdown",
   "id": "scatter-header",
   "metadata": {},
   "source": [
    "### Weight Movement (Pretrained → Retrained)"
   ]
  },
  {
   "cell_type": "code",
   "execution_count": null,
   "id": "plot-scatter",
   "metadata": {},
   "outputs": [],
   "source": [
    "!python scripts/plot_weights_scatter.py --run-dir {RUN_DIR} --sample 20000"
   ]
  },
  {
   "cell_type": "markdown",
   "id": "final-mixture-header",
   "metadata": {},
   "source": [
    "### Final Mixture Components"
   ]
  },
  {
   "cell_type": "code",
   "execution_count": null,
   "id": "plot-mixture",
   "metadata": {},
   "outputs": [],
   "source": [
    "!python scripts/plot_mixture.py --run-dir {RUN_DIR} --checkpoint prequant"
   ]
  },
  {
   "cell_type": "markdown",
   "id": "display-header",
   "metadata": {},
   "source": [
    "---\n",
    "## 3. Display Results"
   ]
  },
  {
   "cell_type": "markdown",
   "id": "gif-header",
   "metadata": {},
   "source": [
    "### Training Evolution GIF"
   ]
  },
  {
   "cell_type": "code",
   "execution_count": null,
   "id": "display-gif",
   "metadata": {},
   "outputs": [],
   "source": [
    "from IPython.display import Image, display\n",
    "import os\n",
    "\n",
    "gif_path = f\"{RUN_DIR}/figures/retraining.gif\"\n",
    "if os.path.exists(gif_path):\n",
    "    display(Image(filename=gif_path))\n",
    "    print(f\"\\n💡 Animation shows weight evolution over {100} epochs\")\n",
    "else:\n",
    "    print(f\"⚠️  GIF not found at {gif_path}\")"
   ]
  },
  {
   "cell_type": "markdown",
   "id": "report-header",
   "metadata": {},
   "source": [
    "### Compression Report"
   ]
  },
  {
   "cell_type": "code",
   "execution_count": null,
   "id": "display-report",
   "metadata": {},
   "outputs": [],
   "source": [
    "import json\n",
    "\n",
    "# Load compression report\n",
    "with open(f\"{RUN_DIR}/report.json\") as f:\n",
    "    report = json.load(f)\n",
    "\n",
    "# Load summary\n",
    "with open(f\"{RUN_DIR}/summary_paper_metrics.json\") as f:\n",
    "    summary = json.load(f)\n",
    "\n",
    "print(\"=\"*60)\n",
    "print(\"COMPRESSION RESULTS (No Hyperpriors)\")\n",
    "print(\"=\"*60)\n",
    "print(f\"Original bits:        {report['orig_bits']:,}\")\n",
    "print(f\"Compressed bits:      {report['compressed_bits']:,}\")\n",
    "print(f\"Compression Ratio:    {report['CR']:.2f}x\")\n",
    "print(f\"Non-zero weights:     {report['nnz']:,} / 641,875\")\n",
    "print(f\"Sparsity:             {100*(1 - report['nnz']/641875):.2f}%\")\n",
    "print()\n",
    "print(f\"Pretrain accuracy:    {summary['acc_pretrain']:.4f} ({summary['acc_pretrain']*100:.2f}%)\")\n",
    "print(f\"Retrain accuracy:     {summary['acc_retrain']:.4f} ({summary['acc_retrain']*100:.2f}%)\")\n",
    "print(f\"Quantized accuracy:   {summary['acc_quantized']:.4f} ({summary['acc_quantized']*100:.2f}%)\")\n",
    "print(f\"Total accuracy drop:  {summary['Delta[%]']:.2f}%\")\n",
    "print(\"=\"*60)"
   ]
  },
  {
   "cell_type": "markdown",
   "id": "layer-header",
   "metadata": {},
   "source": [
    "### Layer-wise Compression Breakdown"
   ]
  },
  {
   "cell_type": "code",
   "execution_count": null,
   "id": "display-layers",
   "metadata": {},
   "outputs": [],
   "source": [
    "print(\"\\nLayer-wise Compression:\")\n",
    "print(f\"{'Layer':<15} {'Shape':<20} {'Original (bits)':<18} {'Compressed (bits)':<20} {'CR':<8} {'Sparsity':<10}\")\n",
    "print(\"-\" * 100)\n",
    "\n",
    "import numpy as np\n",
    "\n",
    "for layer_info in report['layers']:\n",
    "    if layer_info.get('passthrough', False):\n",
    "        cr_str = \"N/A\"\n",
    "        sparsity = 0.0\n",
    "    else:\n",
    "        compressed = (layer_info['bits_IR'] + layer_info['bits_IC'] + \n",
    "                     layer_info['bits_A'] + layer_info['bits_codebook'])\n",
    "        cr = layer_info['orig_bits'] / max(compressed, 1)\n",
    "        cr_str = f\"{cr:.2f}x\"\n",
    "        total_weights = np.prod(layer_info['shape'])\n",
    "        sparsity = 100 * (1 - layer_info['nnz'] / total_weights)\n",
    "    \n",
    "    shape_str = 'x'.join(map(str, layer_info['shape']))\n",
    "    orig_str = f\"{layer_info['orig_bits']:,}\"\n",
    "    comp_str = f\"{layer_info['bits_IR'] + layer_info['bits_IC'] + layer_info['bits_A'] + layer_info['bits_codebook']:,}\"\n",
    "    \n",
    "    print(f\"{layer_info['layer']:<15} {shape_str:<20} {orig_str:<18} {comp_str:<20} {cr_str:<8} {sparsity:.1f}%\")"
   ]
  },
  {
   "cell_type": "markdown",
   "id": "summary",
   "metadata": {},
   "source": [
    "---\n",
    "## Summary\n",
    "\n",
    "Successfully ran SWS compression **without hyperpriors** on LeNet-300-100.\n",
    "\n",
    "### Key Observations:\n",
    "- Without hyperpriors, the mixture parameters evolve based purely on the data\n",
    "- `init_sigma=0.25` controls initial variance of mixture components\n",
    "- All diagnostics saved to `no_hp/lenet300_no_hp/figures/`\n",
    "\n",
    "### Next Steps:\n",
    "- Compare with hyperprior-enabled results\n",
    "- Run Bayesian Optimization to find optimal hyperpriors (see `BO.ipynb`)\n",
    "- Use best hyperparameters in `compression.ipynb`"
   ]
  }
 ],
 "metadata": {
  "kernelspec": {
   "display_name": "Python 3",
   "language": "python",
   "name": "python3"
  },
  "language_info": {
   "codemirror_mode": {
    "name": "ipython",
    "version": 3
   },
   "file_extension": ".py",
   "mimetype": "text/x-python",
   "name": "python",
   "nbconvert_exporter": "python",
   "pygments_lexer": "ipython3",
   "version": "3.11.0"
  }
 },
 "nbformat": 4,
 "nbformat_minor": 5
}
