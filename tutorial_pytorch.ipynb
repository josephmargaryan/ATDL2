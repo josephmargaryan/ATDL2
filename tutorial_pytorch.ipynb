{
 "cells": [
  {
   "cell_type": "markdown",
   "metadata": {},
   "source": [
    "# Soft Weight-Sharing for Neural Network Compression - PyTorch Tutorial\n",
    "**Author**: Gaetano Tedesco\n",
    "\n",
    "This tutorial demonstrates the **Soft Weight-Sharing** approach from Ullrich, Meeds & Welling (ICLR 2017) using PyTorch.\n",
    "\n",
    "\n",
    "## Overview\n",
    "\n",
    "Soft weight-sharing learns a Gaussian mixture model as an empirical prior over network weights. The key idea is that weights naturally cluster together during training, allowing us to:\n",
    "1. Replace individual weights with their cluster center (quantization)\n",
    "2. Store only cluster centers (codebook) + assignments\n",
    "3. Achieve high compression with minimal accuracy loss\n",
    "\n",
    "## Three-Phase Approach\n",
    "\n",
    "1. **PART 1: Pretrain** - Train a standard network on MNIST\n",
    "2. **PART 2: Retrain** - Retrain with a learned Gaussian mixture prior that encourages clustering\n",
    "3. **PART 3: Post-process** - Quantize weights to mixture means and evaluate compression\n",
    "\n",
    "---"
   ]
  },
  {
   "cell_type": "markdown",
   "metadata": {},
   "source": [
    "## Setup and Imports"
   ]
  },
  {
   "cell_type": "code",
   "metadata": {
    "ExecuteTime": {
     "end_time": "2025-10-24T07:14:33.572795Z",
     "start_time": "2025-10-24T07:14:31.290151Z"
    }
   },
   "source": [
    "import os\n",
    "import json\n",
    "import torch\n",
    "import torch.nn as nn\n",
    "import numpy as np\n",
    "import matplotlib.pyplot as plt\n",
    "from pathlib import Path\n",
    "from tqdm import tqdm\n",
    "\n",
    "# Import our soft weight-sharing modules\n",
    "from sws.models import TutorialNet\n",
    "from sws.data import make_loaders\n",
    "from sws.prior import init_mixture, MixturePrior\n",
    "from sws.train import train_standard, retrain_soft_weight_sharing, evaluate\n",
    "from sws.compress import compression_report\n",
    "from sws.utils import collect_weight_params, set_seed, get_device\n",
    "from sws.viz import TrainingGifVisualizer\n",
    "from scripts.tutorial_helpers import (\n",
    "    plot_weight_scatter,\n",
    "    plot_weight_histogram,\n",
    "    plot_mixture_components,\n",
    "    plot_comparison_histograms\n",
    ")\n",
    "\n",
    "# Set random seed for reproducibility\n",
    "set_seed(42)\n",
    "device = get_device()\n",
    "print(f\"Using device: {device}\")"
   ],
   "outputs": [
    {
     "name": "stderr",
     "output_type": "stream",
     "text": [
      "/opt/anaconda3/envs/ATDL2/lib/python3.11/site-packages/tqdm/auto.py:21: TqdmWarning: IProgress not found. Please update jupyter and ipywidgets. See https://ipywidgets.readthedocs.io/en/stable/user_install.html\n",
      "  from .autonotebook import tqdm as notebook_tqdm\n"
     ]
    },
    {
     "name": "stdout",
     "output_type": "stream",
     "text": [
      "Using device: cpu\n"
     ]
    }
   ],
   "execution_count": 1
  },
  {
   "cell_type": "markdown",
   "metadata": {},
   "source": [
    "## Load MNIST Dataset"
   ]
  },
  {
   "cell_type": "code",
   "metadata": {
    "ExecuteTime": {
     "end_time": "2025-10-24T07:14:33.610354Z",
     "start_time": "2025-10-24T07:14:33.580957Z"
    }
   },
   "source": [
    "# Load MNIST with batch size 128\n",
    "train_loader, test_loader, num_classes = make_loaders(\n",
    "    dataset=\"mnist\",\n",
    "    batch_size=128,\n",
    "    num_workers=2\n",
    ")\n",
    "\n",
    "print(f\"Training samples: {len(train_loader.dataset)}\")\n",
    "print(f\"Test samples: {len(test_loader.dataset)}\")\n",
    "print(f\"Number of classes: {num_classes}\")"
   ],
   "outputs": [
    {
     "name": "stdout",
     "output_type": "stream",
     "text": [
      "Training samples: 60000\n",
      "Test samples: 10000\n",
      "Number of classes: 10\n"
     ]
    }
   ],
   "execution_count": 2
  },
  {
   "cell_type": "markdown",
   "metadata": {},
   "source": [
    "---\n",
    "# PART 1: Pretrain Network\n",
    "\n",
    "We first train a standard convolutional neural network on MNIST:\n",
    "- **Architecture**: 2 convolutional layers + 2 fully-connected layers\n",
    "- **Parameters**: ~642,000 trainable weights\n",
    "- **Training**: Standard cross-entropy loss with Adam optimizer\n",
    "- **Expected accuracy**: ~98-99%"
   ]
  },
  {
   "cell_type": "code",
   "metadata": {
    "ExecuteTime": {
     "end_time": "2025-10-24T07:14:33.625576Z",
     "start_time": "2025-10-24T07:14:33.618330Z"
    }
   },
   "source": [
    "# Create the model\n",
    "model = TutorialNet(num_classes=num_classes).to(device)\n",
    "\n",
    "# Count parameters\n",
    "total_params = sum(p.numel() for p in model.parameters())\n",
    "weight_params = sum(p.numel() for p in collect_weight_params(model))\n",
    "\n",
    "print(\"\\nModel Architecture:\")\n",
    "print(model)\n",
    "print(f\"\\nTotal parameters: {total_params:,}\")\n",
    "print(f\"Weight parameters (to be compressed): {weight_params:,}\")"
   ],
   "outputs": [
    {
     "name": "stdout",
     "output_type": "stream",
     "text": [
      "\n",
      "Model Architecture:\n",
      "TutorialNet(\n",
      "  (conv1): Conv2d(1, 25, kernel_size=(5, 5), stride=(2, 2))\n",
      "  (conv2): Conv2d(25, 50, kernel_size=(3, 3), stride=(2, 2))\n",
      "  (fc1): Linear(in_features=1250, out_features=500, bias=True)\n",
      "  (fc2): Linear(in_features=500, out_features=10, bias=True)\n",
      ")\n",
      "\n",
      "Total parameters: 642,460\n",
      "Weight parameters (to be compressed): 641,875\n"
     ]
    }
   ],
   "execution_count": 3
  },
  {
   "cell_type": "markdown",
   "metadata": {},
   "source": [
    "### Train the baseline model"
   ]
  },
  {
   "cell_type": "code",
   "metadata": {
    "ExecuteTime": {
     "end_time": "2025-10-24T07:20:49.985836Z",
     "start_time": "2025-10-24T07:14:33.631900Z"
    }
   },
   "source": [
    "# Pretrain for 30 epochs\n",
    "pretrain_acc = train_standard(\n",
    "    model=model,\n",
    "    train_loader=train_loader,\n",
    "    test_loader=test_loader,\n",
    "    device=device,\n",
    "    epochs=30,\n",
    "    lr=1e-3,\n",
    "    wd=0.0,\n",
    "    optim_name=\"adam\",\n",
    "    eval_every=5,\n",
    "    desc=\"pretrain\"\n",
    ")\n",
    "\n",
    "print(f\"\\n✓ Pretrained model accuracy: {pretrain_acc:.4f} ({pretrain_acc*100:.2f}%)\")"
   ],
   "outputs": [
    {
     "name": "stderr",
     "output_type": "stream",
     "text": [
      "[pretrain] epoch 1/30:   0%|          | 0/469 [00:00<?, ?it/s]/opt/anaconda3/envs/ATDL2/lib/python3.11/site-packages/torch/utils/data/dataloader.py:692: UserWarning: 'pin_memory' argument is set as true but not supported on MPS now, device pinned memory won't be used.\n",
      "  warnings.warn(warn_msg)\n",
      "                                                                                     \r"
     ]
    },
    {
     "name": "stdout",
     "output_type": "stream",
     "text": [
      "[pretrain] ep 001/30 train_ce=0.2556 elapsed=12s\n"
     ]
    },
    {
     "name": "stderr",
     "output_type": "stream",
     "text": [
      "                                                                                     \r"
     ]
    },
    {
     "name": "stdout",
     "output_type": "stream",
     "text": [
      "[pretrain] ep 002/30 train_ce=0.0635 elapsed=24s\n"
     ]
    },
    {
     "name": "stderr",
     "output_type": "stream",
     "text": [
      "                                                                                     \r"
     ]
    },
    {
     "name": "stdout",
     "output_type": "stream",
     "text": [
      "[pretrain] ep 003/30 train_ce=0.0412 elapsed=36s\n"
     ]
    },
    {
     "name": "stderr",
     "output_type": "stream",
     "text": [
      "                                                                                     \r"
     ]
    },
    {
     "name": "stdout",
     "output_type": "stream",
     "text": [
      "[pretrain] ep 004/30 train_ce=0.0291 elapsed=48s\n"
     ]
    },
    {
     "name": "stderr",
     "output_type": "stream",
     "text": [
      "                                                                                     \r"
     ]
    },
    {
     "name": "stdout",
     "output_type": "stream",
     "text": [
      "[pretrain] ep 005/30 train_ce=0.0213 test_acc=0.9896 elapsed=1m02s\n"
     ]
    },
    {
     "name": "stderr",
     "output_type": "stream",
     "text": [
      "                                                                                     \r"
     ]
    },
    {
     "name": "stdout",
     "output_type": "stream",
     "text": [
      "[pretrain] ep 006/30 train_ce=0.0167 elapsed=1m14s\n"
     ]
    },
    {
     "name": "stderr",
     "output_type": "stream",
     "text": [
      "                                                                                     \r"
     ]
    },
    {
     "name": "stdout",
     "output_type": "stream",
     "text": [
      "[pretrain] ep 007/30 train_ce=0.0131 elapsed=1m27s\n"
     ]
    },
    {
     "name": "stderr",
     "output_type": "stream",
     "text": [
      "                                                                                     \r"
     ]
    },
    {
     "name": "stdout",
     "output_type": "stream",
     "text": [
      "[pretrain] ep 008/30 train_ce=0.0100 elapsed=1m39s\n"
     ]
    },
    {
     "name": "stderr",
     "output_type": "stream",
     "text": [
      "                                                                                     \r"
     ]
    },
    {
     "name": "stdout",
     "output_type": "stream",
     "text": [
      "[pretrain] ep 009/30 train_ce=0.0096 elapsed=1m51s\n"
     ]
    },
    {
     "name": "stderr",
     "output_type": "stream",
     "text": [
      "                                                                                      \r"
     ]
    },
    {
     "name": "stdout",
     "output_type": "stream",
     "text": [
      "[pretrain] ep 010/30 train_ce=0.0076 test_acc=0.9868 elapsed=2m05s\n"
     ]
    },
    {
     "name": "stderr",
     "output_type": "stream",
     "text": [
      "                                                                                      \r"
     ]
    },
    {
     "name": "stdout",
     "output_type": "stream",
     "text": [
      "[pretrain] ep 011/30 train_ce=0.0080 elapsed=2m16s\n"
     ]
    },
    {
     "name": "stderr",
     "output_type": "stream",
     "text": [
      "                                                                                      \r"
     ]
    },
    {
     "name": "stdout",
     "output_type": "stream",
     "text": [
      "[pretrain] ep 012/30 train_ce=0.0050 elapsed=2m28s\n"
     ]
    },
    {
     "name": "stderr",
     "output_type": "stream",
     "text": [
      "                                                                                      \r"
     ]
    },
    {
     "name": "stdout",
     "output_type": "stream",
     "text": [
      "[pretrain] ep 013/30 train_ce=0.0056 elapsed=2m40s\n"
     ]
    },
    {
     "name": "stderr",
     "output_type": "stream",
     "text": [
      "                                                                                      \r"
     ]
    },
    {
     "name": "stdout",
     "output_type": "stream",
     "text": [
      "[pretrain] ep 014/30 train_ce=0.0043 elapsed=2m52s\n"
     ]
    },
    {
     "name": "stderr",
     "output_type": "stream",
     "text": [
      "                                                                                      \r"
     ]
    },
    {
     "name": "stdout",
     "output_type": "stream",
     "text": [
      "[pretrain] ep 015/30 train_ce=0.0049 test_acc=0.9917 elapsed=3m06s\n"
     ]
    },
    {
     "name": "stderr",
     "output_type": "stream",
     "text": [
      "                                                                                      \r"
     ]
    },
    {
     "name": "stdout",
     "output_type": "stream",
     "text": [
      "[pretrain] ep 016/30 train_ce=0.0036 elapsed=3m18s\n"
     ]
    },
    {
     "name": "stderr",
     "output_type": "stream",
     "text": [
      "                                                                                      \r"
     ]
    },
    {
     "name": "stdout",
     "output_type": "stream",
     "text": [
      "[pretrain] ep 017/30 train_ce=0.0059 elapsed=3m30s\n"
     ]
    },
    {
     "name": "stderr",
     "output_type": "stream",
     "text": [
      "                                                                                      \r"
     ]
    },
    {
     "name": "stdout",
     "output_type": "stream",
     "text": [
      "[pretrain] ep 018/30 train_ce=0.0039 elapsed=3m43s\n"
     ]
    },
    {
     "name": "stderr",
     "output_type": "stream",
     "text": [
      "                                                                                      \r"
     ]
    },
    {
     "name": "stdout",
     "output_type": "stream",
     "text": [
      "[pretrain] ep 019/30 train_ce=0.0034 elapsed=3m55s\n"
     ]
    },
    {
     "name": "stderr",
     "output_type": "stream",
     "text": [
      "                                                                                      \r"
     ]
    },
    {
     "name": "stdout",
     "output_type": "stream",
     "text": [
      "[pretrain] ep 020/30 train_ce=0.0042 test_acc=0.9901 elapsed=4m09s\n"
     ]
    },
    {
     "name": "stderr",
     "output_type": "stream",
     "text": [
      "                                                                                      \r"
     ]
    },
    {
     "name": "stdout",
     "output_type": "stream",
     "text": [
      "[pretrain] ep 021/30 train_ce=0.0035 elapsed=4m21s\n"
     ]
    },
    {
     "name": "stderr",
     "output_type": "stream",
     "text": [
      "                                                                                      \r"
     ]
    },
    {
     "name": "stdout",
     "output_type": "stream",
     "text": [
      "[pretrain] ep 022/30 train_ce=0.0015 elapsed=4m33s\n"
     ]
    },
    {
     "name": "stderr",
     "output_type": "stream",
     "text": [
      "                                                                                      \r"
     ]
    },
    {
     "name": "stdout",
     "output_type": "stream",
     "text": [
      "[pretrain] ep 023/30 train_ce=0.0022 elapsed=4m46s\n"
     ]
    },
    {
     "name": "stderr",
     "output_type": "stream",
     "text": [
      "                                                                                      \r"
     ]
    },
    {
     "name": "stdout",
     "output_type": "stream",
     "text": [
      "[pretrain] ep 024/30 train_ce=0.0049 elapsed=4m57s\n"
     ]
    },
    {
     "name": "stderr",
     "output_type": "stream",
     "text": [
      "                                                                                      \r"
     ]
    },
    {
     "name": "stdout",
     "output_type": "stream",
     "text": [
      "[pretrain] ep 025/30 train_ce=0.0033 test_acc=0.9891 elapsed=5m11s\n"
     ]
    },
    {
     "name": "stderr",
     "output_type": "stream",
     "text": [
      "                                                                                      \r"
     ]
    },
    {
     "name": "stdout",
     "output_type": "stream",
     "text": [
      "[pretrain] ep 026/30 train_ce=0.0019 elapsed=5m24s\n"
     ]
    },
    {
     "name": "stderr",
     "output_type": "stream",
     "text": [
      "                                                                                      \r"
     ]
    },
    {
     "name": "stdout",
     "output_type": "stream",
     "text": [
      "[pretrain] ep 027/30 train_ce=0.0043 elapsed=5m36s\n"
     ]
    },
    {
     "name": "stderr",
     "output_type": "stream",
     "text": [
      "                                                                                      \r"
     ]
    },
    {
     "name": "stdout",
     "output_type": "stream",
     "text": [
      "[pretrain] ep 028/30 train_ce=0.0027 elapsed=5m48s\n"
     ]
    },
    {
     "name": "stderr",
     "output_type": "stream",
     "text": [
      "                                                                                      \r"
     ]
    },
    {
     "name": "stdout",
     "output_type": "stream",
     "text": [
      "[pretrain] ep 029/30 train_ce=0.0003 elapsed=6m00s\n"
     ]
    },
    {
     "name": "stderr",
     "output_type": "stream",
     "text": [
      "                                                                                      \r"
     ]
    },
    {
     "name": "stdout",
     "output_type": "stream",
     "text": [
      "[pretrain] ep 030/30 train_ce=0.0007 test_acc=0.9894 elapsed=6m14s\n",
      "\n",
      "✓ Pretrained model accuracy: 0.9894 (98.94%)\n"
     ]
    }
   ],
   "execution_count": 4
  },
  {
   "cell_type": "markdown",
   "metadata": {},
   "source": [
    "### Save pretrained model"
   ]
  },
  {
   "cell_type": "code",
   "metadata": {
    "ExecuteTime": {
     "end_time": "2025-10-24T07:20:50.061418Z",
     "start_time": "2025-10-24T07:20:50.052309Z"
    }
   },
   "source": [
    "# Save the pretrained weights\n",
    "os.makedirs(\"tutorial_torch\", exist_ok=True)\n",
    "torch.save(model.state_dict(), \"tutorial_torch/pretrained_model.pt\")\n",
    "print(\"✓ Saved pretrained model to tutorial_torch/pretrained_model.pt\")\n",
    "\n",
    "# Store pretrained weights for later comparison\n",
    "pretrained_weights = [w.clone() for w in collect_weight_params(model)]"
   ],
   "outputs": [
    {
     "name": "stdout",
     "output_type": "stream",
     "text": [
      "✓ Saved pretrained model to tutorial_torch/pretrained_model.pt\n"
     ]
    }
   ],
   "execution_count": 5
  },
  {
   "cell_type": "markdown",
   "metadata": {},
   "source": [
    "### Visualize pretrained weight distribution"
   ]
  },
  {
   "cell_type": "code",
   "metadata": {
    "ExecuteTime": {
     "end_time": "2025-10-24T07:22:11.955786Z",
     "start_time": "2025-10-24T07:22:11.830849Z"
    }
   },
   "source": [
    "os.makedirs(\"tutorial_torch/figures\", exist_ok=True)\n",
    "plot_weight_histogram(\n",
    "    weights=pretrained_weights,\n",
    "    title=\"Pretrained Weight Distribution\",\n",
    "    log_scale=False,\n",
    "    save=\"tutorial_torch/figures/pretrained_histogram.png\"\n",
    ")"
   ],
   "outputs": [
    {
     "name": "stdout",
     "output_type": "stream",
     "text": [
      "Saved histogram to tutorial_torch/figures/pretrained_histogram.png\n"
     ]
    }
   ],
   "execution_count": 8
  },
  {
   "cell_type": "markdown",
   "metadata": {},
   "source": [
    "---\n",
    "# PART 2: Retrain with Gaussian Mixture Prior\n",
    "\n",
    "Now we add a **Gaussian mixture prior** over the weights:\n",
    "\n",
    "$$p(w) = \\sum_{j=0}^{J-1} \\pi_j \\mathcal{N}(w | \\mu_j, \\sigma_j^2)$$\n",
    "\n",
    "Where:\n",
    "- **J = 16 components** (1 zero-spike + 15 non-zero clusters)\n",
    "- **π₀ = 0.99** (high probability on zero for sparsity)\n",
    "- **μ₀ = 0** (zero component is fixed)\n",
    "- **μ₁...μ₁₅** are learned from the pretrained weight distribution\n",
    "\n",
    "## Loss Function\n",
    "\n",
    "The training loss becomes:\n",
    "\n",
    "$$\\mathcal{L} = \\text{CrossEntropy}(y, \\hat{y}) + \\frac{\\tau}{N} \\sum_i -\\log p(w_i)$$\n",
    "\n",
    "Where:\n",
    "- **τ = 0.003** (complexity regularization strength)\n",
    "- **N = 60,000** (dataset size for proper normalization)\n",
    "\n",
    "The negative log probability term encourages weights to cluster at the mixture component means."
   ]
  },
  {
   "cell_type": "markdown",
   "metadata": {},
   "source": [
    "### Initialize the Gaussian Mixture Prior"
   ]
  },
  {
   "cell_type": "code",
   "metadata": {
    "ExecuteTime": {
     "end_time": "2025-10-24T07:22:16.153985Z",
     "start_time": "2025-10-24T07:22:16.144481Z"
    }
   },
   "source": [
    "# Initialize mixture with 16 components\n",
    "prior = init_mixture(\n",
    "    model=model,\n",
    "    J=16,  # Total components (1 zero + 15 non-zero)\n",
    "    pi0=0.99,  # High probability on zero component\n",
    "    init_means_mode=\"from_weights\",  # Initialize from pretrained weight range\n",
    "    init_sigma=0.25,  # Initial standard deviation\n",
    "    device=device\n",
    ")\n",
    "\n",
    "print(\"\\n✓ Initialized Gaussian mixture prior\")\n",
    "print(f\"  - Number of components: {prior.J}\")\n",
    "print(f\"  - Zero component mixing weight (π₀): {prior.pi0_init}\")\n",
    "\n",
    "# Visualize initial mixture\n",
    "mu, sigma2, pi = prior.mixture_params()\n",
    "print(f\"\\nInitial mixture means: {mu[:5].detach().cpu().numpy()}...\")\n",
    "print(f\"Initial mixture stds: {torch.sqrt(sigma2[:5]).detach().cpu().numpy()}...\")"
   ],
   "outputs": [
    {
     "name": "stdout",
     "output_type": "stream",
     "text": [
      "\n",
      "✓ Initialized Gaussian mixture prior\n",
      "  - Number of components: 16\n",
      "  - Zero component mixing weight (π₀): 0.99\n",
      "\n",
      "Initial mixture means: [ 0.        -0.8898916 -0.7799927 -0.6700938 -0.5601949]...\n",
      "Initial mixture stds: [0.25 0.25 0.25 0.25 0.25]...\n"
     ]
    }
   ],
   "execution_count": 9
  },
  {
   "cell_type": "markdown",
   "source": [
    "### Setup GIF Visualizer\n",
    "\n",
    "We'll use the `TrainingGifVisualizer` to create an animated visualization showing how weights evolve during retraining. The GIF will show:\n",
    "- Weight scatter plot (pretrained vs current weights)\n",
    "- Marginal histograms\n",
    "- Mixture component bands (mean ± 2σ)\n",
    "- Test accuracy per epoch"
   ],
   "metadata": {}
  },
  {
   "cell_type": "code",
   "source": [
    "# Create GIF visualizer to track weight evolution during retraining\n",
    "viz = TrainingGifVisualizer(\n",
    "    out_dir=\"tutorial_torch\",\n",
    "    tag=\"retraining\",\n",
    "    framerate=2,\n",
    "    notebook_display = True,\n",
    "    cleanup_frames = True\n",
    ")\n",
    "\n",
    "print(\"✓ GIF visualizer ready - will capture frames during training\")"
   ],
   "metadata": {
    "ExecuteTime": {
     "end_time": "2025-10-24T07:22:19.064402Z",
     "start_time": "2025-10-24T07:22:19.061645Z"
    }
   },
   "outputs": [
    {
     "name": "stdout",
     "output_type": "stream",
     "text": [
      "✓ GIF visualizer ready - will capture frames during training\n"
     ]
    }
   ],
   "execution_count": 10
  },
  {
   "cell_type": "markdown",
   "metadata": {},
   "source": [
    "### Retrain with Soft Weight-Sharing"
   ]
  },
  {
   "cell_type": "code",
   "source": [
    "# Retrain with mixture prior and GIF visualization\n",
    "retrain_acc = retrain_soft_weight_sharing(\n",
    "    model=model,\n",
    "    prior=prior,\n",
    "    train_loader=train_loader,\n",
    "    test_loader=test_loader,\n",
    "    device=device,\n",
    "    epochs=20,\n",
    "    lr_w=5e-4,  # Learning rate for network weights (matches Keras)\n",
    "    lr_theta_means=1e-4,  # Learning rate for mixture means (slower, allows gradual shift)\n",
    "    lr_theta_gammas=3e-3,  # Learning rate for variances (FAST - critical for clustering!)\n",
    "    lr_theta_rhos=3e-3,  # Learning rate for mixing proportions\n",
    "    weight_decay=0.0,\n",
    "    tau=0.003,  # Complexity regularization (properly normalized by dataset size)\n",
    "    tau_warmup_epochs=0,  # Gradually increase tau over first 10 epochs\n",
    "    complexity_mode=\"keras\",  # Use keras-style normalization (tau/dataset_size)\n",
    "    eval_every=10,\n",
    "    cr_every=0,  # Don't compute compression during training (slow)\n",
    "    mixture_every=1,  # Log mixture every epoch for dynamics plot\n",
    "    run_dir=\"tutorial_torch\",\n",
    "    viz=viz  # Pass visualizer to capture frames during training\n",
    ")\n",
    "\n",
    "print(f\"\\n✓ Retrained model accuracy: {retrain_acc:.4f} ({retrain_acc*100:.2f}%)\")\n",
    "print(f\"  Accuracy drop from pretraining: {(pretrain_acc - retrain_acc)*100:.2f}%\")\n",
    "print(f\"\\n✓ GIF animation saved to: tutorial_torch/retraining.gif\")"
   ],
   "metadata": {},
   "execution_count": 11,
   "outputs": [
    {
     "name": "stdout",
     "output_type": "stream",
     "text": [
      "[sws] ep 020/20 train_ce=0.0001 LC=-2.490e+06 tau=0.003 test_acc=0.9923  elapsed=12m02s\n",
      "[viz] wrote GIF to: tutorial_torch/retraining.gif\n"
     ]
    },
    {
     "name": "stderr",
     "output_type": "stream",
     "text": [
      "/opt/anaconda3/envs/ATDL2/lib/python3.11/site-packages/torch/utils/data/dataloader.py:692: UserWarning: 'pin_memory' argument is set as true but not supported on MPS now, device pinned memory won't be used.\n",
      "  warnings.warn(warn_msg)\n"
     ]
    },
    {
     "name": "stdout",
     "output_type": "stream",
     "text": [
      "\n",
      "✓ Retrained model accuracy: 0.9923 (99.23%)\n",
      "  Accuracy drop from pretraining: -0.29%\n",
      "\n",
      "✓ GIF animation saved to: tutorial_torch/retraining.gif\n"
     ]
    }
   ]
  },
  {
   "cell_type": "markdown",
   "source": [
    "### View the Training Animation\n",
    "\n",
    "The GIF shows how weights migrate from their pretrained values (x-axis) toward mixture component means (y-axis) during retraining. You'll see:\n",
    "- Weights clustering into horizontal bands (the mixture components)\n",
    "- The marginal histogram becoming more sparse and discrete\n",
    "- Test accuracy tracked in the title"
   ],
   "metadata": {}
  },
  {
   "metadata": {
    "ExecuteTime": {
     "end_time": "2025-10-24T07:44:18.215855Z",
     "start_time": "2025-10-24T07:44:18.212904Z"
    }
   },
   "cell_type": "code",
   "source": [
    "# Display the GIF inline (works in Jupyter Lab/Notebook)\n",
    "from IPython.display import Image, display\n",
    "\n",
    "gif_path = \"tutorial_torch/figures/retraining.gif\"\n",
    "if os.path.exists(gif_path):\n",
    "    display(Image(filename=gif_path))\n",
    "    print(f\"\\n💡 Animation also saved as individual frames in: tutorial_torch/retraining_frames/\")\n",
    "else:\n",
    "    print(f\"GIF not found at {gif_path}\")"
   ],
   "outputs": [
    {
     "name": "stdout",
     "output_type": "stream",
     "text": [
      "GIF not found at tutorial_torch/figures/retraining.gif\n"
     ]
    }
   ],
   "execution_count": 12
  },
  {
   "cell_type": "markdown",
   "metadata": {},
   "source": [
    "### Save retrained (pre-quantized) model"
   ]
  },
  {
   "cell_type": "code",
   "metadata": {
    "ExecuteTime": {
     "end_time": "2025-10-24T07:44:45.919781Z",
     "start_time": "2025-10-24T07:44:45.910519Z"
    }
   },
   "source": [
    "# Save pre-quantized model\n",
    "torch.save(model.state_dict(), \"tutorial_torch/retrained_prequant_model.pt\")\n",
    "print(\"✓ Saved retrained model to tutorial_torch/retrained_prequant_model.pt\")\n",
    "\n",
    "# Store retrained weights for comparison\n",
    "retrained_weights = [w.clone() for w in collect_weight_params(model)]"
   ],
   "outputs": [
    {
     "name": "stdout",
     "output_type": "stream",
     "text": [
      "✓ Saved retrained model to tutorial_torch/retrained_prequant_model.pt\n"
     ]
    }
   ],
   "execution_count": 13
  },
  {
   "cell_type": "markdown",
   "metadata": {},
   "source": [
    "### Visualize learned mixture components"
   ]
  },
  {
   "cell_type": "code",
   "metadata": {
    "ExecuteTime": {
     "end_time": "2025-10-24T07:44:47.246552Z",
     "start_time": "2025-10-24T07:44:47.117872Z"
    }
   },
   "source": [
    "# Plot the learned Gaussian mixture\n",
    "plot_mixture_components(\n",
    "    prior=prior,\n",
    "    xlim=(-0.5, 0.5),\n",
    "    save=\"tutorial_torch/figures/learned_mixture.png\"\n",
    ")"
   ],
   "outputs": [
    {
     "name": "stdout",
     "output_type": "stream",
     "text": [
      "Saved mixture plot to tutorial_torch/figures/learned_mixture.png\n"
     ]
    }
   ],
   "execution_count": 14
  },
  {
   "cell_type": "code",
   "source": [
    "# Plot how mixture components evolved during retraining\n",
    "import subprocess\n",
    "\n",
    "result = subprocess.run(\n",
    "    [\"python\", \"scripts/plot_mixture_dynamics.py\", \"--run-dir\", \"tutorial_torch\"],\n",
    "    capture_output=True,\n",
    "    text=True\n",
    ")\n",
    "\n",
    "if result.returncode == 0:\n",
    "    print(result.stdout)\n",
    "    # Display the plot\n",
    "    dynamics_path = \"tutorial_torch/figures/plot_mixture_dynamics.png\"\n",
    "    if os.path.exists(dynamics_path):\n",
    "        from IPython.display import Image, display\n",
    "        display(Image(filename=dynamics_path))\n",
    "        print(\"\\n💡 This plot shows how mixture means (±2σ) evolved during retraining\")\n",
    "else:\n",
    "    print(\"Error running plot script:\")\n",
    "    print(result.stderr)"
   ],
   "metadata": {
    "ExecuteTime": {
     "end_time": "2025-10-24T07:44:49.742251Z",
     "start_time": "2025-10-24T07:44:48.987346Z"
    }
   },
   "outputs": [
    {
     "name": "stdout",
     "output_type": "stream",
     "text": [
      "Saved: tutorial_torch/figures/plot_mixture_dynamics.png\n",
      "\n"
     ]
    },
    {
     "data": {
      "image/png": "[encoded data removed]",
      "text/plain": [
       "<IPython.core.display.Image object>"
      ]
     },
     "metadata": {},
     "output_type": "display_data",
     "jetTransient": {
      "display_id": null
     }
    },
    {
     "name": "stdout",
     "output_type": "stream",
     "text": [
      "\n",
      "💡 This plot shows how mixture means (±2σ) evolved during retraining\n"
     ]
    }
   ],
   "execution_count": 15
  },
  {
   "cell_type": "markdown",
   "source": [
    "### Visualize mixture dynamics over training"
   ],
   "metadata": {}
  },
  {
   "cell_type": "markdown",
   "metadata": {},
   "source": [
    "### Visualize weight movement"
   ]
  },
  {
   "cell_type": "code",
   "metadata": {
    "ExecuteTime": {
     "end_time": "2025-10-24T07:44:52.820783Z",
     "start_time": "2025-10-24T07:44:52.734402Z"
    }
   },
   "source": [
    "# Scatter plot showing how weights moved during retraining\n",
    "plot_weight_scatter(\n",
    "    weights_before=pretrained_weights,\n",
    "    weights_after=retrained_weights,\n",
    "    sample=20000,\n",
    "    xlim=(-0.5, 0.5),\n",
    "    ylim=(-0.5, 0.5),\n",
    "    save=\"tutorial_torch/figures/weight_movement.png\"\n",
    ")\n",
    "\n",
    "print(\"\\n💡 Weights should cluster towards mixture component means (away from diagonal)\")"
   ],
   "outputs": [
    {
     "name": "stdout",
     "output_type": "stream",
     "text": [
      "Saved scatter plot to tutorial_torch/figures/weight_movement.png\n",
      "\n",
      "💡 Weights should cluster towards mixture component means (away from diagonal)\n"
     ]
    }
   ],
   "execution_count": 16
  },
  {
   "cell_type": "markdown",
   "metadata": {},
   "source": [
    "---\n",
    "# PART 3: Post-Processing and Compression\n",
    "\n",
    "Now we:\n",
    "1. **Quantize** weights by assigning each to its nearest mixture mean\n",
    "2. **Evaluate** the quantized model accuracy\n",
    "3. **Compute compression** using CSR + Huffman encoding\n",
    "\n",
    "## Quantization Strategy\n",
    "\n",
    "We use **maximum likelihood (ML) assignment**:\n",
    "- For each weight, find the component with highest likelihood\n",
    "- Replace weight with that component's mean\n",
    "- This avoids bias towards the zero-spike during snapping"
   ]
  },
  {
   "cell_type": "markdown",
   "metadata": {},
   "source": [
    "### Quantize weights to mixture means"
   ]
  },
  {
   "cell_type": "code",
   "metadata": {
    "ExecuteTime": {
     "end_time": "2025-10-24T07:44:55.550751Z",
     "start_time": "2025-10-24T07:44:55.518748Z"
    }
   },
   "source": [
    "# Quantize: snap each weight to its nearest mixture component mean\n",
    "prior.quantize_model(\n",
    "    model=model,\n",
    "    skip_last_matrix=True,  # Keep final classifier at full precision\n",
    "    assign=\"ml\"  # Use maximum likelihood assignment (avoids zero-spike bias)\n",
    ")\n",
    "\n",
    "print(\"✓ Quantized weights to mixture means\")"
   ],
   "outputs": [
    {
     "name": "stdout",
     "output_type": "stream",
     "text": [
      "✓ Quantized weights to mixture means\n"
     ]
    }
   ],
   "execution_count": 17
  },
  {
   "cell_type": "markdown",
   "metadata": {},
   "source": [
    "### Evaluate quantized model"
   ]
  },
  {
   "cell_type": "code",
   "metadata": {
    "ExecuteTime": {
     "end_time": "2025-10-24T07:44:59.152804Z",
     "start_time": "2025-10-24T07:44:57.154193Z"
    }
   },
   "source": [
    "# Evaluate accuracy after quantization\n",
    "quantized_acc = evaluate(model, test_loader, device)\n",
    "\n",
    "print(f\"\\n📊 Accuracy Comparison:\")\n",
    "print(f\"  Pretrained:  {pretrain_acc:.4f} ({pretrain_acc*100:.2f}%)\")\n",
    "print(f\"  Retrained:   {retrain_acc:.4f} ({retrain_acc*100:.2f}%)\")\n",
    "print(f\"  Quantized:   {quantized_acc:.4f} ({quantized_acc*100:.2f}%)\")\n",
    "print(f\"\\n  Total accuracy drop: {(pretrain_acc - quantized_acc)*100:.2f}%\")"
   ],
   "outputs": [
    {
     "name": "stderr",
     "output_type": "stream",
     "text": [
      "/opt/anaconda3/envs/ATDL2/lib/python3.11/site-packages/torch/utils/data/dataloader.py:692: UserWarning: 'pin_memory' argument is set as true but not supported on MPS now, device pinned memory won't be used.\n",
      "  warnings.warn(warn_msg)\n"
     ]
    },
    {
     "name": "stdout",
     "output_type": "stream",
     "text": [
      "\n",
      "📊 Accuracy Comparison:\n",
      "  Pretrained:  0.9894 (98.94%)\n",
      "  Retrained:   0.9923 (99.23%)\n",
      "  Quantized:   0.9919 (99.19%)\n",
      "\n",
      "  Total accuracy drop: -0.25%\n"
     ]
    }
   ],
   "execution_count": 18
  },
  {
   "cell_type": "markdown",
   "metadata": {},
   "source": [
    "### Save quantized model"
   ]
  },
  {
   "cell_type": "code",
   "metadata": {
    "ExecuteTime": {
     "end_time": "2025-10-24T07:45:02.002266Z",
     "start_time": "2025-10-24T07:45:01.993683Z"
    }
   },
   "source": [
    "# Save final quantized model\n",
    "torch.save(model.state_dict(), \"tutorial_torch/quantized_model.pt\")\n",
    "print(\"✓ Saved quantized model to tutorial_torch/quantized_model.pt\")\n",
    "\n",
    "# Store quantized weights\n",
    "quantized_weights = [w.clone() for w in collect_weight_params(model)]"
   ],
   "outputs": [
    {
     "name": "stdout",
     "output_type": "stream",
     "text": [
      "✓ Saved quantized model to tutorial_torch/quantized_model.pt\n"
     ]
    }
   ],
   "execution_count": 19
  },
  {
   "cell_type": "markdown",
   "metadata": {},
   "source": [
    "### Compute compression statistics"
   ]
  },
  {
   "cell_type": "code",
   "metadata": {
    "ExecuteTime": {
     "end_time": "2025-10-24T07:45:05.994315Z",
     "start_time": "2025-10-24T07:45:05.947599Z"
    }
   },
   "source": [
    "# Detailed compression report using CSR + Huffman encoding\n",
    "report = compression_report(\n",
    "    model=model,\n",
    "    prior=prior,\n",
    "    dataset=\"mnist\",\n",
    "    use_huffman=True,\n",
    "    pbits_fc=5,  # Bits for FC layer column index diffs\n",
    "    pbits_conv=8,  # Bits for Conv layer column index diffs\n",
    "    skip_last_matrix=True,  # Last layer was not quantized\n",
    "    assign_mode=\"ml\"  # Must match quantization assignment mode\n",
    ")\n",
    "\n",
    "print(\"\\n Compression Report:\")\n",
    "print(f\"  Original bits:    {report['orig_bits']:,}\")\n",
    "print(f\"  Compressed bits:  {report['compressed_bits']:,}\")\n",
    "print(f\"  Compression Ratio: {report['CR']:.2f}x\")\n",
    "print(f\"  Non-zero weights:  {report['nnz']:,} / {weight_params:,} ({100*report['nnz']/weight_params:.2f}%)\")\n",
    "print(f\"  Sparsity:         {100*(1 - report['nnz']/weight_params):.2f}%\")"
   ],
   "outputs": [
    {
     "name": "stdout",
     "output_type": "stream",
     "text": [
      "\n",
      " Compression Report:\n",
      "  Original bits:    20,540,000\n",
      "  Compressed bits:  554,128\n",
      "  Compression Ratio: 37.07x\n",
      "  Non-zero weights:  64,691 / 641,875 (10.08%)\n",
      "  Sparsity:         89.92%\n"
     ]
    }
   ],
   "execution_count": 20
  },
  {
   "cell_type": "markdown",
   "metadata": {},
   "source": [
    "### Layer-wise compression breakdown"
   ]
  },
  {
   "cell_type": "code",
   "metadata": {
    "ExecuteTime": {
     "end_time": "2025-10-24T07:45:09.940383Z",
     "start_time": "2025-10-24T07:45:09.936296Z"
    }
   },
   "source": [
    "print(\"\\n📋 Layer-wise Compression:\")\n",
    "print(f\"{'Layer':<15} {'Shape':<20} {'Original (bits)':<18} {'Compressed (bits)':<20} {'CR':<8} {'Sparsity':<10}\")\n",
    "print(\"-\" * 100)\n",
    "\n",
    "for layer_info in report['layers']:\n",
    "    if layer_info['passthrough']:\n",
    "        cr_str = \"N/A\"\n",
    "        sparsity = 0.0\n",
    "    else:\n",
    "        compressed = layer_info['bits_IR'] + layer_info['bits_IC'] + layer_info['bits_A'] + layer_info['bits_codebook']\n",
    "        cr = layer_info['orig_bits'] / max(compressed, 1)\n",
    "        cr_str = f\"{cr:.2f}x\"\n",
    "        total_weights = np.prod(layer_info['shape'])\n",
    "        sparsity = 100 * (1 - layer_info['nnz'] / total_weights)\n",
    "    \n",
    "    shape_str = 'x'.join(map(str, layer_info['shape']))\n",
    "    orig_str = f\"{layer_info['orig_bits']:,}\"\n",
    "    comp_str = f\"{layer_info['bits_IR'] + layer_info['bits_IC'] + layer_info['bits_A'] + layer_info['bits_codebook']:,}\"\n",
    "    \n",
    "    print(f\"{layer_info['layer']:<15} {shape_str:<20} {orig_str:<18} {comp_str:<20} {cr_str:<8} {sparsity:.1f}%\")"
   ],
   "outputs": [
    {
     "name": "stdout",
     "output_type": "stream",
     "text": [
      "\n",
      "📋 Layer-wise Compression:\n",
      "Layer           Shape                Original (bits)    Compressed (bits)    CR       Sparsity  \n",
      "----------------------------------------------------------------------------------------------------\n",
      "Conv2d          25x1x5x5             20,000             3,086                6.48x    9.1%\n",
      "Conv2d          50x25x3x3            360,000            32,753               10.99x   35.0%\n",
      "Linear          500x1250             20,000,000         358,289              55.82x   91.7%\n",
      "Linear          10x500               160,000            0                    N/A      0.0%\n"
     ]
    }
   ],
   "execution_count": 21
  },
  {
   "cell_type": "markdown",
   "metadata": {},
   "source": [
    "### Visualize weight distributions across all phases"
   ]
  },
  {
   "cell_type": "code",
   "metadata": {
    "ExecuteTime": {
     "end_time": "2025-10-24T07:45:19.095578Z",
     "start_time": "2025-10-24T07:45:17.893056Z"
    }
   },
   "source": [
    "# Compare histograms: pretrained → retrained → quantized\n",
    "plot_comparison_histograms(\n",
    "    weights_pre=pretrained_weights,\n",
    "    weights_retrained=retrained_weights,\n",
    "    weights_quantized=quantized_weights,\n",
    "    save_prefix=\"tutorial_torch/figures/phase\"\n",
    ")\n",
    "\n",
    "print(\"\\n💡 Notice how weights progressively cluster and become sparse\")"
   ],
   "outputs": [
    {
     "name": "stdout",
     "output_type": "stream",
     "text": [
      "Saved comparison plot to tutorial_torch/figures/phase_comparison.png\n",
      "\n",
      "💡 Notice how weights progressively cluster and become sparse\n"
     ]
    }
   ],
   "execution_count": 22
  },
  {
   "cell_type": "markdown",
   "metadata": {},
   "source": [
    "---\n",
    "## Summary\n",
    "\n",
    "We successfully applied soft weight-sharing to compress a neural network:\n",
    "\n",
    "### Results:\n",
    "- **Original model**: ~642K parameters at 32-bit → ~20.5 MB\n",
    "- **Compressed model**: Achieves ~20-60x compression (depending on hyperparameters)\n",
    "- **Accuracy loss**: Typically < 1% on MNIST\n",
    "\n",
    "### Key Insights:\n",
    "\n",
    "1. **Soft clustering is better than hard**: By using a differentiable mixture prior, weights naturally migrate to cluster centers during training\n",
    "\n",
    "2. **Zero-spike induces sparsity**: The high mixing weight (π₀ = 0.99) on the zero component encourages many weights to become exactly zero\n",
    "\n",
    "3. **Proper normalization matters**: The complexity term must be normalized by dataset size (τ/N) for stable training\n",
    "\n",
    "4. **CSR + Huffman is efficient**: Sparse weights + entropy coding achieves better compression than naive approaches\n",
    "\n",
    "### Next Steps:\n",
    "- Try different number of components (J)\n",
    "- Experiment with different τ values\n",
    "- Apply to larger models (ResNets, etc.)\n",
    "- Combine with other compression techniques (pruning, quantization-aware training)\n",
    "\n",
    "---\n",
    "\n",
    "**Reference**: Ullrich, K., Meeds, E., & Welling, M. (2017). Soft Weight-Sharing for Neural Network Compression. *ICLR 2017*."
   ]
  },
  {
   "cell_type": "markdown",
   "metadata": {},
   "source": [
    "---\n",
    "## Bonus: Analyze Mixture Component Usage"
   ]
  },
  {
   "cell_type": "code",
   "metadata": {
    "ExecuteTime": {
     "end_time": "2025-10-24T07:45:22.790388Z",
     "start_time": "2025-10-24T07:45:22.758345Z"
    }
   },
   "source": [
    "# Count how many weights are assigned to each component\n",
    "mu, sigma2, pi = prior.mixture_params()\n",
    "mu = mu.detach().cpu().numpy()\n",
    "pi = pi.detach().cpu().numpy()\n",
    "\n",
    "# Count assignments in quantized model\n",
    "all_weights = torch.cat([w.flatten() for w in quantized_weights]).cpu().detach().numpy()\n",
    "\n",
    "print(\"\\n📊 Component Assignment Statistics:\\n\")\n",
    "print(f\"{'Component':<12} {'Mean (μ)':<12} {'Mixing (π)':<12} {'# Weights':<15} {'Percentage':<12}\")\n",
    "print(\"-\" * 70)\n",
    "\n",
    "for j in range(len(mu)):\n",
    "    # Count weights at this mean (with small tolerance for floating point)\n",
    "    count = np.sum(np.abs(all_weights - mu[j]) < 1e-6)\n",
    "    percentage = 100 * count / len(all_weights)\n",
    "    \n",
    "    comp_name = f\"Comp {j}\" if j > 0 else \"Zero-spike\"\n",
    "    print(f\"{comp_name:<12} {mu[j]:>11.4f} {pi[j]:>11.4f} {count:>14,} {percentage:>11.2f}%\")\n",
    "\n",
    "print(\"\\n💡 The zero-spike should capture most weights (high sparsity)\")"
   ],
   "outputs": [
    {
     "name": "stdout",
     "output_type": "stream",
     "text": [
      "\n",
      "📊 Component Assignment Statistics:\n",
      "\n",
      "Component    Mean (μ)     Mixing (π)   # Weights       Percentage  \n",
      "----------------------------------------------------------------------\n",
      "Zero-spike        0.0000      0.9900        578,113       90.07%\n",
      "Comp 1           -0.8951      0.0000              3        0.00%\n",
      "Comp 2           -0.6502      0.0000             14        0.00%\n",
      "Comp 3           -0.5123      0.0000             64        0.01%\n",
      "Comp 4           -0.4158      0.0000            236        0.04%\n",
      "Comp 5           -0.3196      0.0003          1,453        0.23%\n",
      "Comp 6           -0.1372      0.0021         12,493        1.95%\n",
      "Comp 7           -0.2298      0.0008          4,700        0.73%\n",
      "Comp 8           -0.1023      0.0001            451        0.07%\n",
      "Comp 9           -0.0516      0.0016          9,432        1.47%\n",
      "Comp 10          -0.1757      0.0001            286        0.04%\n",
      "Comp 11           0.1580      0.0022         13,304        2.07%\n",
      "Comp 12           0.0683      0.0026         14,989        2.34%\n",
      "Comp 13           0.2625      0.0003          1,989        0.31%\n",
      "Comp 14           0.3728      0.0000            253        0.04%\n",
      "Comp 15           0.5014      0.0000             29        0.00%\n",
      "\n",
      "💡 The zero-spike should capture most weights (high sparsity)\n"
     ]
    }
   ],
   "execution_count": 23
  }
 ],
 "metadata": {
  "kernelspec": {
   "display_name": "Python 3",
   "language": "python",
   "name": "python3"
  },
  "language_info": {
   "codemirror_mode": {
    "name": "ipython",
    "version": 3
   },
   "file_extension": ".py",
   "mimetype": "text/x-python",
   "name": "python",
   "nbconvert_exporter": "python",
   "pygments_lexer": "ipython3",
   "version": "3.8.0"
  }
 },
 "nbformat": 4,
 "nbformat_minor": 4
}
